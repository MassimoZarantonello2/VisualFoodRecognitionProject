{
 "cells": [
  {
   "cell_type": "code",
   "execution_count": 1,
   "metadata": {},
   "outputs": [],
   "source": [
    "import pandas as pd\n",
    "import numpy as np\n",
    "import matplotlib.pyplot as plt\n",
    "from PIL import Image\n",
    "import torch\n",
    "from torch.utils.data import DataLoader\n",
    "from tqdm import tqdm\n",
    "import os\n",
    "import time\n",
    "\n",
    "from scripts.ImageDataset import ImageDataset\n",
    "from models.FoodCNN import FoodCNN\n",
    "from utils.LogClass import LogClass\n",
    "\n",
    "def get_accuracy(prediction, gt_labels, percentage=True):\n",
    "    correct = 0\n",
    "    for i in range(len(prediction)):\n",
    "        if percentage:\n",
    "            label_prediction = np.argmax(prediction[i])\n",
    "        else:\n",
    "            label_prediction = prediction[i]\n",
    "        if label_prediction == gt_labels[i]:\n",
    "            correct += 1\n",
    "    return correct / len(prediction)\n",
    "\n",
    "# Configurazione del dataset e dei DataLoader (come nel tuo codice)\n",
    "train_gt_path = './ground_truth/train_small.csv'\n",
    "test_gt_path = './ground_truth/new_val_info.csv'\n",
    "\n",
    "train_image_path = './train_set/'\n",
    "test_image_path = './val_set/'\n",
    "\n",
    "train_df = pd.read_csv(train_gt_path, header=None, names=['image_id', 'label'])\n",
    "test_df = pd.read_csv(test_gt_path, header=None, names=['image_id', 'label'])\n",
    "\n",
    "train_dataset = ImageDataset(train_df, train_image_path, train=True)\n",
    "test_dataset = ImageDataset(test_df, test_image_path, train=False)\n",
    "lc = LogClass('technical_report.txt')\n",
    "model_name = 'resnet50'\n",
    "gt_labels = test_dataset.get_all_labels()"
   ]
  },
  {
   "cell_type": "markdown",
   "metadata": {},
   "source": [
    "### Train models"
   ]
  },
  {
   "cell_type": "code",
   "execution_count": 13,
   "metadata": {},
   "outputs": [
    {
     "name": "stderr",
     "output_type": "stream",
     "text": [
      "/home/massimo/Documents/visual_information_and_processing/visualFoodProject/.venv/lib/python3.10/site-packages/torchvision/models/_utils.py:208: UserWarning: The parameter 'pretrained' is deprecated since 0.13 and may be removed in the future, please use 'weights' instead.\n",
      "  warnings.warn(\n",
      "/home/massimo/Documents/visual_information_and_processing/visualFoodProject/.venv/lib/python3.10/site-packages/torchvision/models/_utils.py:223: UserWarning: Arguments other than a weight enum or `None` for 'weights' are deprecated since 0.13 and may be removed in the future. The current behavior is equivalent to passing `weights=ResNet50_Weights.IMAGENET1K_V1`. You can also use `weights=ResNet50_Weights.DEFAULT` to get the most up-to-date weights.\n",
      "  warnings.warn(msg)\n",
      "Epoch 1/20: 100%|█████████████████████| 142/142 [01:29<00:00,  1.58it/s, accuracy=0.0206, loss=4.71]\n"
     ]
    },
    {
     "name": "stdout",
     "output_type": "stream",
     "text": [
      "Train Accuracy: 0.0206\n",
      "Validation Loss: 4.9942, Validation Accuracy: 0.0558\n"
     ]
    },
    {
     "name": "stderr",
     "output_type": "stream",
     "text": [
      "Epoch 2/20: 100%|███████████████████████| 142/142 [01:37<00:00,  1.45it/s, accuracy=0.12, loss=5.27]\n"
     ]
    },
    {
     "name": "stdout",
     "output_type": "stream",
     "text": [
      "Train Accuracy: 0.1197\n",
      "Validation Loss: 4.8134, Validation Accuracy: 0.1016\n"
     ]
    },
    {
     "name": "stderr",
     "output_type": "stream",
     "text": [
      "Epoch 3/20: 100%|████████████████████████| 142/142 [01:35<00:00,  1.48it/s, accuracy=0.2, loss=3.69]\n"
     ]
    },
    {
     "name": "stdout",
     "output_type": "stream",
     "text": [
      "Train Accuracy: 0.2003\n",
      "Validation Loss: 4.5055, Validation Accuracy: 0.1155\n"
     ]
    },
    {
     "name": "stderr",
     "output_type": "stream",
     "text": [
      "Epoch 4/20: 100%|██████████████████████| 142/142 [01:39<00:00,  1.43it/s, accuracy=0.249, loss=3.88]\n"
     ]
    },
    {
     "name": "stdout",
     "output_type": "stream",
     "text": [
      "Train Accuracy: 0.2488\n",
      "Validation Loss: 4.4087, Validation Accuracy: 0.1614\n"
     ]
    },
    {
     "name": "stderr",
     "output_type": "stream",
     "text": [
      "Epoch 5/20: 100%|██████████████████████| 142/142 [01:43<00:00,  1.38it/s, accuracy=0.305, loss=2.85]\n"
     ]
    },
    {
     "name": "stdout",
     "output_type": "stream",
     "text": [
      "Train Accuracy: 0.3048\n",
      "Validation Loss: 4.3622, Validation Accuracy: 0.1673\n"
     ]
    },
    {
     "name": "stderr",
     "output_type": "stream",
     "text": [
      "Epoch 6/20: 100%|███████████████████████| 142/142 [01:44<00:00,  1.35it/s, accuracy=0.347, loss=4.4]\n"
     ]
    },
    {
     "name": "stdout",
     "output_type": "stream",
     "text": [
      "Train Accuracy: 0.3466\n",
      "Validation Loss: 4.4501, Validation Accuracy: 0.1633\n"
     ]
    },
    {
     "name": "stderr",
     "output_type": "stream",
     "text": [
      "Epoch 7/20: 100%|██████████████████████| 142/142 [01:43<00:00,  1.37it/s, accuracy=0.362, loss=4.45]\n"
     ]
    },
    {
     "name": "stdout",
     "output_type": "stream",
     "text": [
      "Train Accuracy: 0.3623\n",
      "Validation Loss: 4.2099, Validation Accuracy: 0.1753\n"
     ]
    },
    {
     "name": "stderr",
     "output_type": "stream",
     "text": [
      "Epoch 8/20: 100%|████████████████████████| 142/142 [01:44<00:00,  1.37it/s, accuracy=0.51, loss=2.6]\n"
     ]
    },
    {
     "name": "stdout",
     "output_type": "stream",
     "text": [
      "Train Accuracy: 0.5095\n",
      "Validation Loss: 3.9220, Validation Accuracy: 0.2171\n"
     ]
    },
    {
     "name": "stderr",
     "output_type": "stream",
     "text": [
      "Epoch 9/20: 100%|██████████████████████| 142/142 [01:49<00:00,  1.30it/s, accuracy=0.531, loss=2.79]\n"
     ]
    },
    {
     "name": "stdout",
     "output_type": "stream",
     "text": [
      "Train Accuracy: 0.5314\n",
      "Validation Loss: 3.9344, Validation Accuracy: 0.2231\n"
     ]
    },
    {
     "name": "stderr",
     "output_type": "stream",
     "text": [
      "Epoch 10/20: 100%|█████████████████████| 142/142 [01:50<00:00,  1.28it/s, accuracy=0.543, loss=2.86]\n"
     ]
    },
    {
     "name": "stdout",
     "output_type": "stream",
     "text": [
      "Train Accuracy: 0.5429\n",
      "Validation Loss: 3.9223, Validation Accuracy: 0.2231\n"
     ]
    },
    {
     "name": "stderr",
     "output_type": "stream",
     "text": [
      "Epoch 11/20: 100%|█████████████████████| 142/142 [01:49<00:00,  1.30it/s, accuracy=0.552, loss=2.84]\n"
     ]
    },
    {
     "name": "stdout",
     "output_type": "stream",
     "text": [
      "Train Accuracy: 0.5525\n",
      "Validation Loss: 3.9486, Validation Accuracy: 0.2171\n"
     ]
    },
    {
     "name": "stderr",
     "output_type": "stream",
     "text": [
      "Epoch 12/20: 100%|█████████████████████| 142/142 [01:47<00:00,  1.32it/s, accuracy=0.545, loss=1.91]\n"
     ]
    },
    {
     "name": "stdout",
     "output_type": "stream",
     "text": [
      "Train Accuracy: 0.5454\n",
      "Validation Loss: 3.9676, Validation Accuracy: 0.2271\n"
     ]
    },
    {
     "name": "stderr",
     "output_type": "stream",
     "text": [
      "Epoch 13/20: 100%|█████████████████████| 142/142 [01:44<00:00,  1.35it/s, accuracy=0.544, loss=2.51]\n"
     ]
    },
    {
     "name": "stdout",
     "output_type": "stream",
     "text": [
      "Train Accuracy: 0.5445\n",
      "Validation Loss: 3.9229, Validation Accuracy: 0.2211\n"
     ]
    },
    {
     "name": "stderr",
     "output_type": "stream",
     "text": [
      "Epoch 14/20: 100%|█████████████████████| 142/142 [01:45<00:00,  1.35it/s, accuracy=0.554, loss=1.89]\n"
     ]
    },
    {
     "name": "stdout",
     "output_type": "stream",
     "text": [
      "Train Accuracy: 0.5538\n",
      "Validation Loss: 3.9111, Validation Accuracy: 0.2191\n"
     ]
    },
    {
     "name": "stderr",
     "output_type": "stream",
     "text": [
      "Epoch 15/20: 100%|█████████████████████| 142/142 [01:46<00:00,  1.34it/s, accuracy=0.577, loss=2.84]\n"
     ]
    },
    {
     "name": "stdout",
     "output_type": "stream",
     "text": [
      "Train Accuracy: 0.5775\n",
      "Validation Loss: 3.9167, Validation Accuracy: 0.2191\n"
     ]
    },
    {
     "name": "stderr",
     "output_type": "stream",
     "text": [
      "Epoch 16/20: 100%|██████████████████████| 142/142 [01:45<00:00,  1.34it/s, accuracy=0.577, loss=2.6]\n"
     ]
    },
    {
     "name": "stdout",
     "output_type": "stream",
     "text": [
      "Train Accuracy: 0.5775\n",
      "Validation Loss: 3.9089, Validation Accuracy: 0.2131\n"
     ]
    },
    {
     "name": "stderr",
     "output_type": "stream",
     "text": [
      "Epoch 17/20: 100%|█████████████████████| 142/142 [01:46<00:00,  1.33it/s, accuracy=0.577, loss=2.64]\n"
     ]
    },
    {
     "name": "stdout",
     "output_type": "stream",
     "text": [
      "Train Accuracy: 0.5766\n",
      "Validation Loss: 3.9128, Validation Accuracy: 0.2231\n"
     ]
    },
    {
     "name": "stderr",
     "output_type": "stream",
     "text": [
      "Epoch 18/20: 100%|██████████████████████| 142/142 [01:48<00:00,  1.31it/s, accuracy=0.576, loss=2.7]\n"
     ]
    },
    {
     "name": "stdout",
     "output_type": "stream",
     "text": [
      "Train Accuracy: 0.5757\n",
      "Validation Loss: 3.8917, Validation Accuracy: 0.2311\n"
     ]
    },
    {
     "name": "stderr",
     "output_type": "stream",
     "text": [
      "Epoch 19/20: 100%|█████████████████████| 142/142 [01:40<00:00,  1.42it/s, accuracy=0.582, loss=3.02]\n"
     ]
    },
    {
     "name": "stdout",
     "output_type": "stream",
     "text": [
      "Train Accuracy: 0.5823\n",
      "Validation Loss: 3.9012, Validation Accuracy: 0.2251\n"
     ]
    },
    {
     "name": "stderr",
     "output_type": "stream",
     "text": [
      "Epoch 20/20: 100%|█████████████████████| 142/142 [01:39<00:00,  1.42it/s, accuracy=0.582, loss=2.64]\n"
     ]
    },
    {
     "name": "stdout",
     "output_type": "stream",
     "text": [
      "Train Accuracy: 0.5819\n",
      "Validation Loss: 3.8946, Validation Accuracy: 0.2271\n",
      "Max Memory Allocated: 499.55 MB\n",
      "Training time: 2238.57 s\n"
     ]
    }
   ],
   "source": [
    "model = FoodCNN(model_name=model_name, num_classes=251, device='cuda')\n",
    "start_train = time.time()\n",
    "train_loss, val_loss, train_accuracies, val_accuracies = model.train_model(train_dataset, validation=0.1, num_epochs=20, lr=0.001)\n",
    "end_train = time.time()\n",
    "\n",
    "print(f\"Max Memory Allocated: {torch.cuda.max_memory_allocated() / 1024**2:.2f} MB\")\n",
    "lc.write(f\"Max Memory Allocated: {torch.cuda.max_memory_allocated() / 1024**2:.2f} MB\")\n",
    "print(f\"Training time: {end_train - start_train:.2f} s\")\n",
    "lc.write(f\"Training time: {end_train - start_train:.2f} s\")\n",
    "lc.close()"
   ]
  },
  {
   "cell_type": "code",
   "execution_count": 3,
   "metadata": {},
   "outputs": [
    {
     "ename": "NameError",
     "evalue": "name 'train_loss' is not defined",
     "output_type": "error",
     "traceback": [
      "\u001b[0;31m---------------------------------------------------------------------------\u001b[0m",
      "\u001b[0;31mNameError\u001b[0m                                 Traceback (most recent call last)",
      "Cell \u001b[0;32mIn[3], line 3\u001b[0m\n\u001b[1;32m      1\u001b[0m lc \u001b[38;5;241m=\u001b[39m LogClass(\u001b[38;5;124m'\u001b[39m\u001b[38;5;124mtechnical_report.txt\u001b[39m\u001b[38;5;124m'\u001b[39m)\n\u001b[1;32m      2\u001b[0m \u001b[38;5;66;03m# Plot delle loss e delle accuratezze\u001b[39;00m\n\u001b[0;32m----> 3\u001b[0m plt\u001b[38;5;241m.\u001b[39mplot(\u001b[43mtrain_loss\u001b[49m, label\u001b[38;5;241m=\u001b[39m\u001b[38;5;124m'\u001b[39m\u001b[38;5;124mTrain Loss\u001b[39m\u001b[38;5;124m'\u001b[39m)\n\u001b[1;32m      4\u001b[0m plt\u001b[38;5;241m.\u001b[39mplot(val_loss, label\u001b[38;5;241m=\u001b[39m\u001b[38;5;124m'\u001b[39m\u001b[38;5;124mValidation Loss\u001b[39m\u001b[38;5;124m'\u001b[39m)\n\u001b[1;32m      5\u001b[0m plt\u001b[38;5;241m.\u001b[39mxlabel(\u001b[38;5;124m'\u001b[39m\u001b[38;5;124mEpoch\u001b[39m\u001b[38;5;124m'\u001b[39m)\n",
      "\u001b[0;31mNameError\u001b[0m: name 'train_loss' is not defined"
     ]
    }
   ],
   "source": [
    "lc = LogClass('technical_report.txt')\n",
    "# Plot delle loss e delle accuratezze\n",
    "plt.plot(train_loss, label='Train Loss')\n",
    "plt.plot(val_loss, label='Validation Loss')\n",
    "plt.xlabel('Epoch')\n",
    "plt.ylabel('Loss')\n",
    "plt.legend()\n",
    "\n",
    "plt.savefig(f'graphs/{model_name}_loss_plot.png')\n",
    "plt.clf()\n",
    "plt.plot(train_accuracies, label='Train Accuracy')\n",
    "plt.plot(val_accuracies, label='Validation Accuracy')\n",
    "plt.xlabel('Epoch')\n",
    "plt.ylabel('Accuracy')\n",
    "plt.legend()\n",
    "\n",
    "plt.savefig(f'graphs/{model_name}_accuracy_plot.png')\n"
   ]
  },
  {
   "cell_type": "code",
   "execution_count": 15,
   "metadata": {},
   "outputs": [
    {
     "name": "stderr",
     "output_type": "stream",
     "text": [
      "100%|██████████| 373/373 [03:06<00:00,  2.00it/s]"
     ]
    },
    {
     "name": "stdout",
     "output_type": "stream",
     "text": [
      "Max Memory Allocated: 499.55 MB\n",
      "Prediction time: 186.45 s\n",
      "Accuracy: 0.25967268149391526\n"
     ]
    },
    {
     "name": "stderr",
     "output_type": "stream",
     "text": [
      "\n"
     ]
    }
   ],
   "source": [
    "start_predict = time.time()\n",
    "prediction = model.predict(test_dataset)\n",
    "end_predict = time.time()\n",
    "\n",
    "print(f\"Max Memory Allocated: {torch.cuda.max_memory_allocated() / 1024**2:.2f} MB\")\n",
    "lc.write(f\"Max Memory Allocated: {torch.cuda.max_memory_allocated() / 1024**2:.2f} MB\")\n",
    "print(f\"Prediction time: {end_predict - start_predict:.2f} s\")\n",
    "lc.write(f\"Prediction time: {end_predict - start_predict:.2f} s\")\n",
    "\n",
    "accuracy = get_accuracy(prediction, gt_labels)\n",
    "print(f'Accuracy: {accuracy}')\n",
    "lc.write(f'Accuracy: {accuracy}')\n",
    "lc.write('----------------------------------------------------------------------------------------------------------\\n')\n",
    "lc.close()"
   ]
  },
  {
   "cell_type": "markdown",
   "metadata": {},
   "source": [
    "### Simple CNN"
   ]
  },
  {
   "cell_type": "code",
   "execution_count": 2,
   "metadata": {},
   "outputs": [
    {
     "name": "stderr",
     "output_type": "stream",
     "text": [
      "Epoch 1/20: 100%|████████████████████| 142/142 [01:24<00:00,  1.69it/s, accuracy=0.00288, loss=5.53]\n"
     ]
    },
    {
     "name": "stdout",
     "output_type": "stream",
     "text": [
      "Train Accuracy: 0.0029\n",
      "Validation Loss: 5.5274, Validation Accuracy: 0.0000\n"
     ]
    },
    {
     "name": "stderr",
     "output_type": "stream",
     "text": [
      "Epoch 2/20: 100%|████████████████████| 142/142 [01:24<00:00,  1.68it/s, accuracy=0.00243, loss=5.52]\n"
     ]
    },
    {
     "name": "stdout",
     "output_type": "stream",
     "text": [
      "Train Accuracy: 0.0024\n",
      "Validation Loss: 5.5300, Validation Accuracy: 0.0000\n"
     ]
    },
    {
     "name": "stderr",
     "output_type": "stream",
     "text": [
      "Epoch 3/20: 100%|████████████████████| 142/142 [01:26<00:00,  1.64it/s, accuracy=0.00354, loss=5.52]\n"
     ]
    },
    {
     "name": "stdout",
     "output_type": "stream",
     "text": [
      "Train Accuracy: 0.0035\n",
      "Validation Loss: 5.5324, Validation Accuracy: 0.0000\n"
     ]
    },
    {
     "name": "stderr",
     "output_type": "stream",
     "text": [
      "Epoch 4/20: 100%|████████████████████| 142/142 [01:28<00:00,  1.61it/s, accuracy=0.00332, loss=5.53]\n"
     ]
    },
    {
     "name": "stdout",
     "output_type": "stream",
     "text": [
      "Train Accuracy: 0.0033\n",
      "Validation Loss: 5.5346, Validation Accuracy: 0.0000\n"
     ]
    },
    {
     "name": "stderr",
     "output_type": "stream",
     "text": [
      "Epoch 5/20: 100%|████████████████████| 142/142 [01:28<00:00,  1.60it/s, accuracy=0.00354, loss=5.53]\n"
     ]
    },
    {
     "name": "stdout",
     "output_type": "stream",
     "text": [
      "Train Accuracy: 0.0035\n",
      "Validation Loss: 5.5368, Validation Accuracy: 0.0000\n"
     ]
    },
    {
     "name": "stderr",
     "output_type": "stream",
     "text": [
      "Epoch 6/20: 100%|████████████████████| 142/142 [01:31<00:00,  1.56it/s, accuracy=0.00332, loss=5.55]\n"
     ]
    },
    {
     "name": "stdout",
     "output_type": "stream",
     "text": [
      "Train Accuracy: 0.0033\n",
      "Validation Loss: 5.5390, Validation Accuracy: 0.0000\n"
     ]
    },
    {
     "name": "stderr",
     "output_type": "stream",
     "text": [
      "Epoch 7/20: 100%|████████████████████| 142/142 [01:32<00:00,  1.54it/s, accuracy=0.00443, loss=5.52]\n"
     ]
    },
    {
     "name": "stdout",
     "output_type": "stream",
     "text": [
      "Train Accuracy: 0.0044\n",
      "Validation Loss: 5.5407, Validation Accuracy: 0.0000\n"
     ]
    },
    {
     "name": "stderr",
     "output_type": "stream",
     "text": [
      "Epoch 8/20: 100%|████████████████████| 142/142 [01:31<00:00,  1.56it/s, accuracy=0.00443, loss=5.53]\n"
     ]
    },
    {
     "name": "stdout",
     "output_type": "stream",
     "text": [
      "Train Accuracy: 0.0044\n",
      "Validation Loss: 5.5409, Validation Accuracy: 0.0000\n"
     ]
    },
    {
     "name": "stderr",
     "output_type": "stream",
     "text": [
      "Epoch 9/20: 100%|████████████████████| 142/142 [01:31<00:00,  1.55it/s, accuracy=0.00443, loss=5.54]\n"
     ]
    },
    {
     "name": "stdout",
     "output_type": "stream",
     "text": [
      "Train Accuracy: 0.0044\n",
      "Validation Loss: 5.5411, Validation Accuracy: 0.0000\n"
     ]
    },
    {
     "name": "stderr",
     "output_type": "stream",
     "text": [
      "Epoch 10/20: 100%|███████████████████| 142/142 [01:29<00:00,  1.59it/s, accuracy=0.00443, loss=5.51]\n"
     ]
    },
    {
     "name": "stdout",
     "output_type": "stream",
     "text": [
      "Train Accuracy: 0.0044\n",
      "Validation Loss: 5.5413, Validation Accuracy: 0.0000\n"
     ]
    },
    {
     "name": "stderr",
     "output_type": "stream",
     "text": [
      "Epoch 11/20: 100%|███████████████████| 142/142 [01:30<00:00,  1.56it/s, accuracy=0.00443, loss=5.54]\n"
     ]
    },
    {
     "name": "stdout",
     "output_type": "stream",
     "text": [
      "Train Accuracy: 0.0044\n",
      "Validation Loss: 5.5415, Validation Accuracy: 0.0000\n"
     ]
    },
    {
     "name": "stderr",
     "output_type": "stream",
     "text": [
      "Epoch 12/20: 100%|███████████████████| 142/142 [01:31<00:00,  1.55it/s, accuracy=0.00443, loss=5.52]\n"
     ]
    },
    {
     "name": "stdout",
     "output_type": "stream",
     "text": [
      "Train Accuracy: 0.0044\n",
      "Validation Loss: 5.5417, Validation Accuracy: 0.0000\n"
     ]
    },
    {
     "name": "stderr",
     "output_type": "stream",
     "text": [
      "Epoch 13/20: 100%|███████████████████| 142/142 [01:32<00:00,  1.54it/s, accuracy=0.00443, loss=5.53]\n"
     ]
    },
    {
     "name": "stdout",
     "output_type": "stream",
     "text": [
      "Train Accuracy: 0.0044\n",
      "Validation Loss: 5.5419, Validation Accuracy: 0.0000\n"
     ]
    },
    {
     "name": "stderr",
     "output_type": "stream",
     "text": [
      "Epoch 14/20: 100%|███████████████████| 142/142 [01:31<00:00,  1.54it/s, accuracy=0.00443, loss=5.52]\n"
     ]
    },
    {
     "name": "stdout",
     "output_type": "stream",
     "text": [
      "Train Accuracy: 0.0044\n",
      "Validation Loss: 5.5421, Validation Accuracy: 0.0000\n"
     ]
    },
    {
     "name": "stderr",
     "output_type": "stream",
     "text": [
      "Epoch 15/20: 100%|███████████████████| 142/142 [01:30<00:00,  1.57it/s, accuracy=0.00443, loss=5.52]\n"
     ]
    },
    {
     "name": "stdout",
     "output_type": "stream",
     "text": [
      "Train Accuracy: 0.0044\n",
      "Validation Loss: 5.5421, Validation Accuracy: 0.0000\n"
     ]
    },
    {
     "name": "stderr",
     "output_type": "stream",
     "text": [
      "Epoch 16/20: 100%|███████████████████| 142/142 [01:32<00:00,  1.54it/s, accuracy=0.00443, loss=5.51]\n"
     ]
    },
    {
     "name": "stdout",
     "output_type": "stream",
     "text": [
      "Train Accuracy: 0.0044\n",
      "Validation Loss: 5.5421, Validation Accuracy: 0.0000\n"
     ]
    },
    {
     "name": "stderr",
     "output_type": "stream",
     "text": [
      "Epoch 17/20: 100%|███████████████████| 142/142 [01:32<00:00,  1.54it/s, accuracy=0.00443, loss=5.51]\n"
     ]
    },
    {
     "name": "stdout",
     "output_type": "stream",
     "text": [
      "Train Accuracy: 0.0044\n",
      "Validation Loss: 5.5421, Validation Accuracy: 0.0000\n"
     ]
    },
    {
     "name": "stderr",
     "output_type": "stream",
     "text": [
      "Epoch 18/20: 100%|███████████████████| 142/142 [01:30<00:00,  1.57it/s, accuracy=0.00443, loss=5.51]\n"
     ]
    },
    {
     "name": "stdout",
     "output_type": "stream",
     "text": [
      "Train Accuracy: 0.0044\n",
      "Validation Loss: 5.5422, Validation Accuracy: 0.0000\n"
     ]
    },
    {
     "name": "stderr",
     "output_type": "stream",
     "text": [
      "Epoch 19/20: 100%|███████████████████| 142/142 [01:30<00:00,  1.56it/s, accuracy=0.00443, loss=5.52]\n"
     ]
    },
    {
     "name": "stdout",
     "output_type": "stream",
     "text": [
      "Train Accuracy: 0.0044\n",
      "Validation Loss: 5.5422, Validation Accuracy: 0.0000\n"
     ]
    },
    {
     "name": "stderr",
     "output_type": "stream",
     "text": [
      "Epoch 20/20: 100%|███████████████████| 142/142 [01:34<00:00,  1.50it/s, accuracy=0.00443, loss=5.51]\n"
     ]
    },
    {
     "name": "stdout",
     "output_type": "stream",
     "text": [
      "Train Accuracy: 0.0044\n",
      "Validation Loss: 5.5422, Validation Accuracy: 0.0000\n",
      "Max Memory Allocated: 1576.48 MB\n",
      "Training time: 1876.51 s\n"
     ]
    }
   ],
   "source": [
    "from utils.LogClass import LogClass\n",
    "from models.SimpleCNN import SimpleCNN\n",
    "lc = LogClass('technical_report.txt')\n",
    "sn = FoodCNN(model_name='simpleCNN', num_classes=251, device='cuda')\n",
    "start_train = time.time()\n",
    "train_loss, val_loss, train_accuracies, val_accuracies = sn.train_model(train_dataset, validation=0.1, num_epochs=20, lr=0.001)\n",
    "end_train = time.time()\n",
    "\n",
    "print(f\"Max Memory Allocated: {torch.cuda.max_memory_allocated() / 1024**2:.2f} MB\")\n",
    "lc.write(f\"Max Memory Allocated: {torch.cuda.max_memory_allocated() / 1024**2:.2f} MB\")\n",
    "print(f\"Training time: {end_train - start_train:.2f} s\")\n",
    "lc.write(f\"Training time: {end_train - start_train:.2f} s\")\n",
    "lc.close()"
   ]
  }
 ],
 "metadata": {
  "kernelspec": {
   "display_name": ".venv",
   "language": "python",
   "name": "python3"
  },
  "language_info": {
   "codemirror_mode": {
    "name": "ipython",
    "version": 3
   },
   "file_extension": ".py",
   "mimetype": "text/x-python",
   "name": "python",
   "nbconvert_exporter": "python",
   "pygments_lexer": "ipython3",
   "version": "3.10.12"
  }
 },
 "nbformat": 4,
 "nbformat_minor": 2
}
