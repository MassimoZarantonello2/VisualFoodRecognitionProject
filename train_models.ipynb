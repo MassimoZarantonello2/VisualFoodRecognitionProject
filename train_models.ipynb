{
 "cells": [
  {
   "cell_type": "code",
   "execution_count": 2,
   "metadata": {},
   "outputs": [],
   "source": [
    "import pandas as pd\n",
    "import numpy as np\n",
    "import matplotlib.pyplot as plt\n",
    "from PIL import Image\n",
    "import torch\n",
    "from torch.utils.data import DataLoader\n",
    "from tqdm import tqdm\n",
    "import os\n",
    "import time\n",
    "\n",
    "from scripts.ImageDataset import ImageDataset\n",
    "from models.FoodCNN import FoodCNN\n",
    "from utils.LogClass import LogClass\n",
    "\n",
    "def get_accuracy(prediction, gt_labels, percentage=True):\n",
    "    correct = 0\n",
    "    for i in range(len(prediction)):\n",
    "        if percentage:\n",
    "            label_prediction = np.argmax(prediction[i])\n",
    "        else:\n",
    "            label_prediction = prediction[i]\n",
    "        if label_prediction == gt_labels[i]:\n",
    "            correct += 1\n",
    "    return correct / len(prediction)\n",
    "\n",
    "# Configurazione del dataset e dei DataLoader (come nel tuo codice)\n",
    "train_gt_path = './ground_truth/train_small.csv'\n",
    "test_gt_path = './ground_truth/my_val_info.csv'\n",
    "\n",
    "train_image_path = './train_set/'\n",
    "test_image_path = './val_set/'\n",
    "\n",
    "train_df = pd.read_csv(train_gt_path, header=None, names=['image_id', 'label'])\n",
    "test_df = pd.read_csv(test_gt_path, header=None, names=['image_id', 'label'])\n",
    "\n",
    "train_dataset = ImageDataset(train_df, train_image_path, train=True)\n",
    "test_dataset = ImageDataset(test_df, test_image_path, train=False)\n",
    "lc = LogClass('utils/technical_report.txt')\n",
    "gt_labels = test_dataset.get_all_labels()"
   ]
  },
  {
   "cell_type": "code",
   "execution_count": 3,
   "metadata": {},
   "outputs": [],
   "source": [
    "model_name = 'simplecnn'"
   ]
  },
  {
   "cell_type": "markdown",
   "metadata": {},
   "source": [
    "### Train models"
   ]
  },
  {
   "cell_type": "code",
   "execution_count": 6,
   "metadata": {},
   "outputs": [
    {
     "name": "stderr",
     "output_type": "stream",
     "text": [
      "Epoch 1/20: 100%|█████████████████████| 142/142 [00:58<00:00,  2.41it/s, accuracy=0.0124, loss=5.86]\n"
     ]
    },
    {
     "name": "stdout",
     "output_type": "stream",
     "text": [
      "Train Accuracy: 0.0124\n",
      "Validation Loss: 5.2565, Validation Accuracy: 0.0299\n"
     ]
    },
    {
     "name": "stderr",
     "output_type": "stream",
     "text": [
      "Epoch 2/20: 100%|█████████████████████| 142/142 [00:58<00:00,  2.43it/s, accuracy=0.0865, loss=4.93]\n"
     ]
    },
    {
     "name": "stdout",
     "output_type": "stream",
     "text": [
      "Train Accuracy: 0.0865\n",
      "Validation Loss: 4.8663, Validation Accuracy: 0.0956\n"
     ]
    },
    {
     "name": "stderr",
     "output_type": "stream",
     "text": [
      "Epoch 3/20: 100%|██████████████████████| 142/142 [00:58<00:00,  2.41it/s, accuracy=0.155, loss=5.09]\n"
     ]
    },
    {
     "name": "stdout",
     "output_type": "stream",
     "text": [
      "Train Accuracy: 0.1549\n",
      "Validation Loss: 4.6147, Validation Accuracy: 0.1076\n"
     ]
    },
    {
     "name": "stderr",
     "output_type": "stream",
     "text": [
      "Epoch 4/20: 100%|██████████████████████| 142/142 [00:59<00:00,  2.37it/s, accuracy=0.216, loss=4.33]\n"
     ]
    },
    {
     "name": "stdout",
     "output_type": "stream",
     "text": [
      "Train Accuracy: 0.2156\n",
      "Validation Loss: 4.4970, Validation Accuracy: 0.1454\n"
     ]
    },
    {
     "name": "stderr",
     "output_type": "stream",
     "text": [
      "Epoch 5/20: 100%|██████████████████████| 142/142 [00:59<00:00,  2.37it/s, accuracy=0.261, loss=3.35]\n"
     ]
    },
    {
     "name": "stdout",
     "output_type": "stream",
     "text": [
      "Train Accuracy: 0.2612\n",
      "Validation Loss: 4.3833, Validation Accuracy: 0.1474\n"
     ]
    },
    {
     "name": "stderr",
     "output_type": "stream",
     "text": [
      "Epoch 6/20: 100%|██████████████████████| 142/142 [00:57<00:00,  2.47it/s, accuracy=0.303, loss=4.23]\n"
     ]
    },
    {
     "name": "stdout",
     "output_type": "stream",
     "text": [
      "Train Accuracy: 0.3026\n",
      "Validation Loss: 4.3258, Validation Accuracy: 0.1614\n"
     ]
    },
    {
     "name": "stderr",
     "output_type": "stream",
     "text": [
      "Epoch 7/20: 100%|██████████████████████| 142/142 [00:57<00:00,  2.47it/s, accuracy=0.325, loss=3.05]\n"
     ]
    },
    {
     "name": "stdout",
     "output_type": "stream",
     "text": [
      "Train Accuracy: 0.3249\n",
      "Validation Loss: 4.3368, Validation Accuracy: 0.1394\n"
     ]
    },
    {
     "name": "stderr",
     "output_type": "stream",
     "text": [
      "Epoch 8/20: 100%|██████████████████████| 142/142 [00:58<00:00,  2.44it/s, accuracy=0.425, loss=3.28]\n"
     ]
    },
    {
     "name": "stdout",
     "output_type": "stream",
     "text": [
      "Train Accuracy: 0.4252\n",
      "Validation Loss: 4.1105, Validation Accuracy: 0.1813\n"
     ]
    },
    {
     "name": "stderr",
     "output_type": "stream",
     "text": [
      "Epoch 9/20: 100%|██████████████████████| 142/142 [00:58<00:00,  2.45it/s, accuracy=0.455, loss=2.63]\n"
     ]
    },
    {
     "name": "stdout",
     "output_type": "stream",
     "text": [
      "Train Accuracy: 0.4548\n",
      "Validation Loss: 4.0848, Validation Accuracy: 0.1892\n"
     ]
    },
    {
     "name": "stderr",
     "output_type": "stream",
     "text": [
      "Epoch 10/20: 100%|█████████████████████| 142/142 [00:58<00:00,  2.43it/s, accuracy=0.451, loss=3.63]\n"
     ]
    },
    {
     "name": "stdout",
     "output_type": "stream",
     "text": [
      "Train Accuracy: 0.4511\n",
      "Validation Loss: 4.0897, Validation Accuracy: 0.1813\n"
     ]
    },
    {
     "name": "stderr",
     "output_type": "stream",
     "text": [
      "Epoch 11/20: 100%|█████████████████████| 142/142 [00:56<00:00,  2.50it/s, accuracy=0.458, loss=2.35]\n"
     ]
    },
    {
     "name": "stdout",
     "output_type": "stream",
     "text": [
      "Train Accuracy: 0.4575\n",
      "Validation Loss: 4.0942, Validation Accuracy: 0.1853\n"
     ]
    },
    {
     "name": "stderr",
     "output_type": "stream",
     "text": [
      "Epoch 12/20: 100%|█████████████████████| 142/142 [00:55<00:00,  2.55it/s, accuracy=0.469, loss=2.64]\n"
     ]
    },
    {
     "name": "stdout",
     "output_type": "stream",
     "text": [
      "Train Accuracy: 0.4692\n",
      "Validation Loss: 4.1006, Validation Accuracy: 0.1773\n"
     ]
    },
    {
     "name": "stderr",
     "output_type": "stream",
     "text": [
      "Epoch 13/20: 100%|█████████████████████| 142/142 [00:55<00:00,  2.55it/s, accuracy=0.467, loss=4.35]\n"
     ]
    },
    {
     "name": "stdout",
     "output_type": "stream",
     "text": [
      "Train Accuracy: 0.4672\n",
      "Validation Loss: 4.1116, Validation Accuracy: 0.1733\n"
     ]
    },
    {
     "name": "stderr",
     "output_type": "stream",
     "text": [
      "Epoch 14/20: 100%|█████████████████████| 142/142 [00:56<00:00,  2.53it/s, accuracy=0.475, loss=3.85]\n"
     ]
    },
    {
     "name": "stdout",
     "output_type": "stream",
     "text": [
      "Train Accuracy: 0.4750\n",
      "Validation Loss: 4.0989, Validation Accuracy: 0.1793\n"
     ]
    },
    {
     "name": "stderr",
     "output_type": "stream",
     "text": [
      "Epoch 15/20: 100%|█████████████████████| 142/142 [00:55<00:00,  2.55it/s, accuracy=0.482, loss=3.25]\n"
     ]
    },
    {
     "name": "stdout",
     "output_type": "stream",
     "text": [
      "Train Accuracy: 0.4823\n",
      "Validation Loss: 4.1010, Validation Accuracy: 0.1793\n"
     ]
    },
    {
     "name": "stderr",
     "output_type": "stream",
     "text": [
      "Epoch 16/20: 100%|█████████████████████| 142/142 [00:55<00:00,  2.55it/s, accuracy=0.483, loss=3.11]\n"
     ]
    },
    {
     "name": "stdout",
     "output_type": "stream",
     "text": [
      "Train Accuracy: 0.4830\n",
      "Validation Loss: 4.0947, Validation Accuracy: 0.1793\n"
     ]
    },
    {
     "name": "stderr",
     "output_type": "stream",
     "text": [
      "Epoch 17/20: 100%|█████████████████████| 142/142 [00:56<00:00,  2.52it/s, accuracy=0.476, loss=2.84]\n"
     ]
    },
    {
     "name": "stdout",
     "output_type": "stream",
     "text": [
      "Train Accuracy: 0.4757\n",
      "Validation Loss: 4.1131, Validation Accuracy: 0.1753\n"
     ]
    },
    {
     "name": "stderr",
     "output_type": "stream",
     "text": [
      "Epoch 18/20: 100%|█████████████████████| 142/142 [00:58<00:00,  2.41it/s, accuracy=0.487, loss=3.74]\n"
     ]
    },
    {
     "name": "stdout",
     "output_type": "stream",
     "text": [
      "Train Accuracy: 0.4872\n",
      "Validation Loss: 4.0954, Validation Accuracy: 0.1813\n"
     ]
    },
    {
     "name": "stderr",
     "output_type": "stream",
     "text": [
      "Epoch 19/20: 100%|█████████████████████| 142/142 [01:00<00:00,  2.35it/s, accuracy=0.487, loss=3.14]\n"
     ]
    },
    {
     "name": "stdout",
     "output_type": "stream",
     "text": [
      "Train Accuracy: 0.4872\n",
      "Validation Loss: 4.1092, Validation Accuracy: 0.1793\n"
     ]
    },
    {
     "name": "stderr",
     "output_type": "stream",
     "text": [
      "Epoch 20/20: 100%|█████████████████████| 142/142 [00:57<00:00,  2.46it/s, accuracy=0.481, loss=4.46]\n"
     ]
    },
    {
     "name": "stdout",
     "output_type": "stream",
     "text": [
      "Train Accuracy: 0.4810\n",
      "Validation Loss: 4.1173, Validation Accuracy: 0.1833\n",
      "Max Memory Allocated: 1655.85 MB\n",
      "Training time: 1191.06 s\n"
     ]
    }
   ],
   "source": [
    "model = FoodCNN(model_name='resnet18', num_classes=251)\n",
    "start_train = time.time()\n",
    "train_loss, val_loss, train_accuracies, val_accuracies = model.train_model(train_dataset, validation=0.1, num_epochs=20, lr=0.001)\n",
    "end_train = time.time()\n",
    "\n",
    "print(f\"Max Memory Allocated: {torch.cuda.max_memory_allocated() / 1024**2:.2f} MB\")\n",
    "lc.write(f\"Max Memory Allocated: {torch.cuda.max_memory_allocated() / 1024**2:.2f} MB\")\n",
    "print(f\"Training time: {end_train - start_train:.2f} s\")\n",
    "lc.write(f\"Training time: {end_train - start_train:.2f} s\")\n",
    "lc.close()"
   ]
  },
  {
   "cell_type": "code",
   "execution_count": 3,
   "metadata": {},
   "outputs": [
    {
     "ename": "NameError",
     "evalue": "name 'train_loss' is not defined",
     "output_type": "error",
     "traceback": [
      "\u001B[0;31m---------------------------------------------------------------------------\u001B[0m",
      "\u001B[0;31mNameError\u001B[0m                                 Traceback (most recent call last)",
      "Cell \u001B[0;32mIn[3], line 3\u001B[0m\n\u001B[1;32m      1\u001B[0m lc \u001B[38;5;241m=\u001B[39m LogClass(\u001B[38;5;124m'\u001B[39m\u001B[38;5;124mtechnical_report.txt\u001B[39m\u001B[38;5;124m'\u001B[39m)\n\u001B[1;32m      2\u001B[0m \u001B[38;5;66;03m# Plot delle loss e delle accuratezze\u001B[39;00m\n\u001B[0;32m----> 3\u001B[0m plt\u001B[38;5;241m.\u001B[39mplot(\u001B[43mtrain_loss\u001B[49m, label\u001B[38;5;241m=\u001B[39m\u001B[38;5;124m'\u001B[39m\u001B[38;5;124mTrain Loss\u001B[39m\u001B[38;5;124m'\u001B[39m)\n\u001B[1;32m      4\u001B[0m plt\u001B[38;5;241m.\u001B[39mplot(val_loss, label\u001B[38;5;241m=\u001B[39m\u001B[38;5;124m'\u001B[39m\u001B[38;5;124mValidation Loss\u001B[39m\u001B[38;5;124m'\u001B[39m)\n\u001B[1;32m      5\u001B[0m plt\u001B[38;5;241m.\u001B[39mxlabel(\u001B[38;5;124m'\u001B[39m\u001B[38;5;124mEpoch\u001B[39m\u001B[38;5;124m'\u001B[39m)\n",
      "\u001B[0;31mNameError\u001B[0m: name 'train_loss' is not defined"
     ]
    }
   ],
   "source": [
    "lc = LogClass('utils/technical_report.txt')\n",
    "# Plot delle loss e delle accuratezze\n",
    "plt.plot(train_loss, label='Train Loss')\n",
    "plt.plot(val_loss, label='Validation Loss')\n",
    "plt.xlabel('Epoch')\n",
    "plt.ylabel('Loss')\n",
    "plt.legend()\n",
    "\n",
    "plt.savefig(f'graphs/{model_name}_loss_plot.png')\n",
    "plt.clf()\n",
    "plt.plot(train_accuracies, label='Train Accuracy')\n",
    "plt.plot(val_accuracies, label='Validation Accuracy')\n",
    "plt.xlabel('Epoch')\n",
    "plt.ylabel('Accuracy')\n",
    "plt.legend()\n",
    "\n",
    "plt.savefig(f'graphs/{model_name}_accuracy_plot.png')\n"
   ]
  },
  {
   "cell_type": "code",
   "execution_count": 15,
   "metadata": {},
   "outputs": [
    {
     "name": "stderr",
     "output_type": "stream",
     "text": [
      "100%|██████████| 373/373 [03:06<00:00,  2.00it/s]"
     ]
    },
    {
     "name": "stdout",
     "output_type": "stream",
     "text": [
      "Max Memory Allocated: 499.55 MB\n",
      "Prediction time: 186.45 s\n",
      "Accuracy: 0.25967268149391526\n"
     ]
    },
    {
     "name": "stderr",
     "output_type": "stream",
     "text": [
      "\n"
     ]
    }
   ],
   "source": [
    "start_predict = time.time()\n",
    "prediction = model.predict(test_dataset)\n",
    "end_predict = time.time()\n",
    "\n",
    "print(f\"Max Memory Allocated: {torch.cuda.max_memory_allocated() / 1024**2:.2f} MB\")\n",
    "lc.write(f\"Max Memory Allocated: {torch.cuda.max_memory_allocated() / 1024**2:.2f} MB\")\n",
    "print(f\"Prediction time: {end_predict - start_predict:.2f} s\")\n",
    "lc.write(f\"Prediction time: {end_predict - start_predict:.2f} s\")\n",
    "\n",
    "accuracy = get_accuracy(prediction, gt_labels)\n",
    "print(f'Accuracy: {accuracy}')\n",
    "lc.write(f'Accuracy: {accuracy}')\n",
    "lc.write('----------------------------------------------------------------------------------------------------------\\n')\n",
    "lc.close()"
   ]
  },
  {
   "cell_type": "markdown",
   "metadata": {},
   "source": [
    "### Simple CNN"
   ]
  },
  {
   "cell_type": "code",
   "execution_count": 2,
   "metadata": {},
   "outputs": [
    {
     "name": "stderr",
     "output_type": "stream",
     "text": [
      "Epoch 1/20: 100%|████████████████████| 142/142 [01:24<00:00,  1.69it/s, accuracy=0.00288, loss=5.53]\n"
     ]
    },
    {
     "name": "stdout",
     "output_type": "stream",
     "text": [
      "Train Accuracy: 0.0029\n",
      "Validation Loss: 5.5274, Validation Accuracy: 0.0000\n"
     ]
    },
    {
     "name": "stderr",
     "output_type": "stream",
     "text": [
      "Epoch 2/20: 100%|████████████████████| 142/142 [01:24<00:00,  1.68it/s, accuracy=0.00243, loss=5.52]\n"
     ]
    },
    {
     "name": "stdout",
     "output_type": "stream",
     "text": [
      "Train Accuracy: 0.0024\n",
      "Validation Loss: 5.5300, Validation Accuracy: 0.0000\n"
     ]
    },
    {
     "name": "stderr",
     "output_type": "stream",
     "text": [
      "Epoch 3/20: 100%|████████████████████| 142/142 [01:26<00:00,  1.64it/s, accuracy=0.00354, loss=5.52]\n"
     ]
    },
    {
     "name": "stdout",
     "output_type": "stream",
     "text": [
      "Train Accuracy: 0.0035\n",
      "Validation Loss: 5.5324, Validation Accuracy: 0.0000\n"
     ]
    },
    {
     "name": "stderr",
     "output_type": "stream",
     "text": [
      "Epoch 4/20: 100%|████████████████████| 142/142 [01:28<00:00,  1.61it/s, accuracy=0.00332, loss=5.53]\n"
     ]
    },
    {
     "name": "stdout",
     "output_type": "stream",
     "text": [
      "Train Accuracy: 0.0033\n",
      "Validation Loss: 5.5346, Validation Accuracy: 0.0000\n"
     ]
    },
    {
     "name": "stderr",
     "output_type": "stream",
     "text": [
      "Epoch 5/20: 100%|████████████████████| 142/142 [01:28<00:00,  1.60it/s, accuracy=0.00354, loss=5.53]\n"
     ]
    },
    {
     "name": "stdout",
     "output_type": "stream",
     "text": [
      "Train Accuracy: 0.0035\n",
      "Validation Loss: 5.5368, Validation Accuracy: 0.0000\n"
     ]
    },
    {
     "name": "stderr",
     "output_type": "stream",
     "text": [
      "Epoch 6/20: 100%|████████████████████| 142/142 [01:31<00:00,  1.56it/s, accuracy=0.00332, loss=5.55]\n"
     ]
    },
    {
     "name": "stdout",
     "output_type": "stream",
     "text": [
      "Train Accuracy: 0.0033\n",
      "Validation Loss: 5.5390, Validation Accuracy: 0.0000\n"
     ]
    },
    {
     "name": "stderr",
     "output_type": "stream",
     "text": [
      "Epoch 7/20: 100%|████████████████████| 142/142 [01:32<00:00,  1.54it/s, accuracy=0.00443, loss=5.52]\n"
     ]
    },
    {
     "name": "stdout",
     "output_type": "stream",
     "text": [
      "Train Accuracy: 0.0044\n",
      "Validation Loss: 5.5407, Validation Accuracy: 0.0000\n"
     ]
    },
    {
     "name": "stderr",
     "output_type": "stream",
     "text": [
      "Epoch 8/20: 100%|████████████████████| 142/142 [01:31<00:00,  1.56it/s, accuracy=0.00443, loss=5.53]\n"
     ]
    },
    {
     "name": "stdout",
     "output_type": "stream",
     "text": [
      "Train Accuracy: 0.0044\n",
      "Validation Loss: 5.5409, Validation Accuracy: 0.0000\n"
     ]
    },
    {
     "name": "stderr",
     "output_type": "stream",
     "text": [
      "Epoch 9/20: 100%|████████████████████| 142/142 [01:31<00:00,  1.55it/s, accuracy=0.00443, loss=5.54]\n"
     ]
    },
    {
     "name": "stdout",
     "output_type": "stream",
     "text": [
      "Train Accuracy: 0.0044\n",
      "Validation Loss: 5.5411, Validation Accuracy: 0.0000\n"
     ]
    },
    {
     "name": "stderr",
     "output_type": "stream",
     "text": [
      "Epoch 10/20: 100%|███████████████████| 142/142 [01:29<00:00,  1.59it/s, accuracy=0.00443, loss=5.51]\n"
     ]
    },
    {
     "name": "stdout",
     "output_type": "stream",
     "text": [
      "Train Accuracy: 0.0044\n",
      "Validation Loss: 5.5413, Validation Accuracy: 0.0000\n"
     ]
    },
    {
     "name": "stderr",
     "output_type": "stream",
     "text": [
      "Epoch 11/20: 100%|███████████████████| 142/142 [01:30<00:00,  1.56it/s, accuracy=0.00443, loss=5.54]\n"
     ]
    },
    {
     "name": "stdout",
     "output_type": "stream",
     "text": [
      "Train Accuracy: 0.0044\n",
      "Validation Loss: 5.5415, Validation Accuracy: 0.0000\n"
     ]
    },
    {
     "name": "stderr",
     "output_type": "stream",
     "text": [
      "Epoch 12/20: 100%|███████████████████| 142/142 [01:31<00:00,  1.55it/s, accuracy=0.00443, loss=5.52]\n"
     ]
    },
    {
     "name": "stdout",
     "output_type": "stream",
     "text": [
      "Train Accuracy: 0.0044\n",
      "Validation Loss: 5.5417, Validation Accuracy: 0.0000\n"
     ]
    },
    {
     "name": "stderr",
     "output_type": "stream",
     "text": [
      "Epoch 13/20: 100%|███████████████████| 142/142 [01:32<00:00,  1.54it/s, accuracy=0.00443, loss=5.53]\n"
     ]
    },
    {
     "name": "stdout",
     "output_type": "stream",
     "text": [
      "Train Accuracy: 0.0044\n",
      "Validation Loss: 5.5419, Validation Accuracy: 0.0000\n"
     ]
    },
    {
     "name": "stderr",
     "output_type": "stream",
     "text": [
      "Epoch 14/20: 100%|███████████████████| 142/142 [01:31<00:00,  1.54it/s, accuracy=0.00443, loss=5.52]\n"
     ]
    },
    {
     "name": "stdout",
     "output_type": "stream",
     "text": [
      "Train Accuracy: 0.0044\n",
      "Validation Loss: 5.5421, Validation Accuracy: 0.0000\n"
     ]
    },
    {
     "name": "stderr",
     "output_type": "stream",
     "text": [
      "Epoch 15/20: 100%|███████████████████| 142/142 [01:30<00:00,  1.57it/s, accuracy=0.00443, loss=5.52]\n"
     ]
    },
    {
     "name": "stdout",
     "output_type": "stream",
     "text": [
      "Train Accuracy: 0.0044\n",
      "Validation Loss: 5.5421, Validation Accuracy: 0.0000\n"
     ]
    },
    {
     "name": "stderr",
     "output_type": "stream",
     "text": [
      "Epoch 16/20: 100%|███████████████████| 142/142 [01:32<00:00,  1.54it/s, accuracy=0.00443, loss=5.51]\n"
     ]
    },
    {
     "name": "stdout",
     "output_type": "stream",
     "text": [
      "Train Accuracy: 0.0044\n",
      "Validation Loss: 5.5421, Validation Accuracy: 0.0000\n"
     ]
    },
    {
     "name": "stderr",
     "output_type": "stream",
     "text": [
      "Epoch 17/20: 100%|███████████████████| 142/142 [01:32<00:00,  1.54it/s, accuracy=0.00443, loss=5.51]\n"
     ]
    },
    {
     "name": "stdout",
     "output_type": "stream",
     "text": [
      "Train Accuracy: 0.0044\n",
      "Validation Loss: 5.5421, Validation Accuracy: 0.0000\n"
     ]
    },
    {
     "name": "stderr",
     "output_type": "stream",
     "text": [
      "Epoch 18/20: 100%|███████████████████| 142/142 [01:30<00:00,  1.57it/s, accuracy=0.00443, loss=5.51]\n"
     ]
    },
    {
     "name": "stdout",
     "output_type": "stream",
     "text": [
      "Train Accuracy: 0.0044\n",
      "Validation Loss: 5.5422, Validation Accuracy: 0.0000\n"
     ]
    },
    {
     "name": "stderr",
     "output_type": "stream",
     "text": [
      "Epoch 19/20: 100%|███████████████████| 142/142 [01:30<00:00,  1.56it/s, accuracy=0.00443, loss=5.52]\n"
     ]
    },
    {
     "name": "stdout",
     "output_type": "stream",
     "text": [
      "Train Accuracy: 0.0044\n",
      "Validation Loss: 5.5422, Validation Accuracy: 0.0000\n"
     ]
    },
    {
     "name": "stderr",
     "output_type": "stream",
     "text": [
      "Epoch 20/20: 100%|███████████████████| 142/142 [01:34<00:00,  1.50it/s, accuracy=0.00443, loss=5.51]\n"
     ]
    },
    {
     "name": "stdout",
     "output_type": "stream",
     "text": [
      "Train Accuracy: 0.0044\n",
      "Validation Loss: 5.5422, Validation Accuracy: 0.0000\n",
      "Max Memory Allocated: 1576.48 MB\n",
      "Training time: 1876.51 s\n"
     ]
    }
   ],
   "source": [
    "from utils.LogClass import LogClass\n",
    "from models.SimpleCNN import SimpleCNN\n",
    "lc = LogClass('utils/technical_report.txt')\n",
    "sn = FoodCNN(model_name='simpleCNN', num_classes=251, device='cuda')\n",
    "start_train = time.time()\n",
    "train_loss, val_loss, train_accuracies, val_accuracies = sn.train_model(train_dataset, validation=0.1, num_epochs=20, lr=0.001)\n",
    "end_train = time.time()\n",
    "\n",
    "print(f\"Max Memory Allocated: {torch.cuda.max_memory_allocated() / 1024**2:.2f} MB\")\n",
    "lc.write(f\"Max Memory Allocated: {torch.cuda.max_memory_allocated() / 1024**2:.2f} MB\")\n",
    "print(f\"Training time: {end_train - start_train:.2f} s\")\n",
    "lc.write(f\"Training time: {end_train - start_train:.2f} s\")\n",
    "lc.close()"
   ]
  }
 ],
 "metadata": {
  "kernelspec": {
   "display_name": ".venv",
   "language": "python",
   "name": "python3"
  },
  "language_info": {
   "codemirror_mode": {
    "name": "ipython",
    "version": 3
   },
   "file_extension": ".py",
   "mimetype": "text/x-python",
   "name": "python",
   "nbconvert_exporter": "python",
   "pygments_lexer": "ipython3",
   "version": "3.10.0"
  }
 },
 "nbformat": 4,
 "nbformat_minor": 2
}
